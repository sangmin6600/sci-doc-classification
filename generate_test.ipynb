{
 "cells": [
  {
   "cell_type": "code",
   "execution_count": 1,
   "metadata": {},
   "outputs": [],
   "source": [
    "import os\n",
    "os.environ[\"CUDA_DEVICE_ORDER\"]=\"PCI_BUS_ID\"\n",
    "os.environ[\"CUDA_VISIBLE_DEVICES\"]=\"2\""
   ]
  },
  {
   "cell_type": "code",
   "execution_count": 2,
   "metadata": {},
   "outputs": [],
   "source": [
    "from transformers import AutoTokenizer, AutoConfig, AutoModelForCausalLM\n",
    "import torch\n",
    "from peft import PeftModel, PeftConfig"
   ]
  },
  {
   "cell_type": "code",
   "execution_count": 3,
   "metadata": {},
   "outputs": [],
   "source": [
    "# 사용할 모델명 또는 경로 설정\n",
    "model_name = 'beomi/llama-2-ko-7b'\n",
    "peft_model_path = '/home/smkim/PatentClassification/llama-2-ko-7b-ft-paper_classification_ct/checkpoint-1406'"
   ]
  },
  {
   "cell_type": "code",
   "execution_count": 4,
   "metadata": {},
   "outputs": [
    {
     "data": {
      "application/vnd.jupyter.widget-view+json": {
       "model_id": "3dc8cff63c634b78916ef17cc030aa1b",
       "version_major": 2,
       "version_minor": 0
      },
      "text/plain": [
       "Loading checkpoint shards:   0%|          | 0/15 [00:00<?, ?it/s]"
      ]
     },
     "metadata": {},
     "output_type": "display_data"
    }
   ],
   "source": [
    "# 모델 및 토크나이저 로드\n",
    "tokenizer = AutoTokenizer.from_pretrained(model_name)\n",
    "model = AutoModelForCausalLM.from_pretrained(model_name, torch_dtype=torch.bfloat16)#.to('cuda')\n",
    "# model.load_state_dict(torch.load(checkpoint_path))\n",
    "model = PeftModel.from_pretrained(model, peft_model_path).to('cuda')"
   ]
  },
  {
   "cell_type": "code",
   "execution_count": 6,
   "metadata": {},
   "outputs": [],
   "source": [
    "# model = model.merge_and_unload()\n",
    "# model = model.to('cuda')"
   ]
  },
  {
   "cell_type": "code",
   "execution_count": 5,
   "metadata": {},
   "outputs": [],
   "source": [
    "# 사용할 instruction 입력\n",
    "# instruction = \"\"\"Analyze this document and provide the corresponding technical field code according to the CPC classification.\"\"\"\n",
    "# instruction = \"\"\"Analyze the content of this document and identify the relevant academic field according to the WoS category.\"\"\"\n",
    "instruction = \"\"\"Examine the content of this document and identify the key Citation Topics it addresses.\"\"\""
   ]
  },
  {
   "cell_type": "code",
   "execution_count": 6,
   "metadata": {},
   "outputs": [],
   "source": [
    "# input context\n",
    "input_t= \"\"\"Background A variety of minimally invasive surgical approaches are available as an alternative to transurethral resection of the prostate (TURP) for management of lower urinary tract symptoms (LUTS) in men with benign prostatic hyperplasia (BPH). Prostatic arterial embolization (PAE) is a relatively new, minimally invasive treatment approach. Objectives To assess the effects of PAE compared to other procedures for treatment of LUTS in men with BPH. Search methods We performed a comprehensive search the Cochrane Library, MEDLINE, Embase, three other databases, trials registries, other sources of grey literature, and conference proceedings with no restrictions on language of publication or publication status, up to 8 November 2021. Selection criteria We included parallel-group randomized controlled trials (RCTs), as well as non-randomized studies (NRS, limited to prospective cohort studies with concurrent comparison groups) enrolling men over the age of 40 years with LUTS attributed to BPH undergoing PAE versus TURP or other surgical interventions. Data collection and analysis Two review authors independently classified studies for inclusion or exclusion and abstracted data from the included studies. We performed statistical analyses by using a random-effects model and interpreted them according to the Cochrane Handbook for Systematic Reviews of Interventions. We used GRADE guidance to rate the certainty of evidence of RCTs and NRSs. Main results We found data to inform two comparisons: PAE versus TURP (six RCTs and two NRSs), and PAE versus sham (one RCT). Mean age was 66 years, International Prostate Symptom Score (IPSS) was 22.8, and prostate volume of participants was 72.8 mL. This abstract focuses on the comparison of PAE versus TURP as the primary topic of interest. Prostatic arterial embolization versus transurethral resection of the prostate We included six RCTs and two NRSs with short-term (up to 12 months) follow-up, and two RCTs and one NRS with long-term follow-up (13 to 24 months). Short-term follow-up: based on RCT evidence, there may be little to no difference in urologic symptom score improvement measured by the International Prostatic Symptom Score (IPSS) on a scale from 0 to 35, with higher scores indicating worse symptoms (mean difference [MD] 1.72, 95% confidence interval [CI] -0.37 to 3.81; 6 RCTs, 360 participants; I-2 = 78%; low-certainty evidence). There may be little to no difference in quality of life as measured by the IPSS-quality of life question on a scale from 0 to 6, with higher scores indicating worse quality of life between PAE and TURP, respectively (MD 0.28, 95% CI -0.28 to 0.84; 5 RCTs, 300 participants; I-2 = 63%; low-certainty evidence). While we are very uncertain about the effects of PAE on major adverse events (risk ratio [RR] 0.75, 95% Cl 0.19 to 2.97; 4 RCTs, 250 participants; I-2 = 24%; very low-certainty evidence), PAE likely increases retreatments (RR 3.20, 95% CI 1.41 to 7.27; 4 RCTs, 303 participants; I-2 = 0%; moderate-certainty evidence). PAE may make little to no difference in erectile function measured by the International Index of Erectile Function-5 on a scale from 1 to 25, with higher scores indicating better function (MD -0.50 points, 95% CI -5.88 to 4.88; 2 RCTs, 120 participants; I-2 = 68%; low-certainty evidence). Based on NRS evidence, PAE may reduce the occurrence of ejaculatory disorders (RR 0.51, 95% CI 0.35 to 0.73; 1 NRS, 260 participants; low-certainty evidence). Long-term follow-up: based on RCT evidence, PAE may result in little to no difference in urologic symptom scores (MD 2.58 points, 95% CI - 1.54 to 6.71; 2 RCTs, 176 participants; I-2 = 73%; low-certainty evidence) and quality of life (MD 0.50 points, 95% CI -0.03 to 1.04; 2 RCTs, 176 participants; I-2 = 29%; low-certainty evidence). We are very uncertain about major adverse events (RR 0.91, 95% CI 0.20 to 4.05; 2 RCTs, 206 participants; I-2 = 72%; very low-certainty evidence). PAE likely increases retreatments (RR 3.80, 95% CI 1.32 to 10.93; 1 RCT, 81 participants; moderate-certainty evidence). While PAE may result in little to no difference in erectile function (MD 3.09 points, 95% CI -0.76 to 6.94; 1 RCT, 81 participants; low-certainty evidence), PAE may reduce the occurrence of ejaculatory disorders (RR 0.67, 95% CI 0.45 to 0.98; 1 RCT, 50 participants; low-certainty evidence). Authors' conclusions Compared to TURP, PAE may provide similar improvement in urologic symptom scores and quality of life. While we are very uncertain about major adverse events, PAE likely increases retreatment rates. While erectile function may be similar, PAE may reduce ejaculatory disorders. Certainty of evidence for the outcomes of this review was low or very low except for retreatment (moderate-certainty evidence), signaling that ou\"\"\""
   ]
  },
  {
   "cell_type": "code",
   "execution_count": 7,
   "metadata": {},
   "outputs": [],
   "source": [
    "# 프롬프트 포맷\n",
    "input_text = f\"\"\"[INST] <<SYS>>\n",
    "You are a helpful assistant.\n",
    "<</SYS>>\n",
    "\n",
    "{input_t}\n",
    "\n",
    "{instruction} [/INST]\n",
    "\n",
    "\"\"\""
   ]
  },
  {
   "cell_type": "code",
   "execution_count": 8,
   "metadata": {},
   "outputs": [
    {
     "name": "stdout",
     "output_type": "stream",
     "text": [
      "[INST] <<SYS>>\n",
      "You are a helpful assistant.\n",
      "<</SYS>>\n",
      "\n",
      "Background A variety of minimally invasive surgical approaches are available as an alternative to transurethral resection of the prostate (TURP) for management of lower urinary tract symptoms (LUTS) in men with benign prostatic hyperplasia (BPH). Prostatic arterial embolization (PAE) is a relatively new, minimally invasive treatment approach. Objectives To assess the effects of PAE compared to other procedures for treatment of LUTS in men with BPH. Search methods We performed a comprehensive search the Cochrane Library, MEDLINE, Embase, three other databases, trials registries, other sources of grey literature, and conference proceedings with no restrictions on language of publication or publication status, up to 8 November 2021. Selection criteria We included parallel-group randomized controlled trials (RCTs), as well as non-randomized studies (NRS, limited to prospective cohort studies with concurrent comparison groups) enrolling men over the age of 40 years with LUTS attributed to BPH undergoing PAE versus TURP or other surgical interventions. Data collection and analysis Two review authors independently classified studies for inclusion or exclusion and abstracted data from the included studies. We performed statistical analyses by using a random-effects model and interpreted them according to the Cochrane Handbook for Systematic Reviews of Interventions. We used GRADE guidance to rate the certainty of evidence of RCTs and NRSs. Main results We found data to inform two comparisons: PAE versus TURP (six RCTs and two NRSs), and PAE versus sham (one RCT). Mean age was 66 years, International Prostate Symptom Score (IPSS) was 22.8, and prostate volume of participants was 72.8 mL. This abstract focuses on the comparison of PAE versus TURP as the primary topic of interest. Prostatic arterial embolization versus transurethral resection of the prostate We included six RCTs and two NRSs with short-term (up to 12 months) follow-up, and two RCTs and one NRS with long-term follow-up (13 to 24 months). Short-term follow-up: based on RCT evidence, there may be little to no difference in urologic symptom score improvement measured by the International Prostatic Symptom Score (IPSS) on a scale from 0 to 35, with higher scores indicating worse symptoms (mean difference [MD] 1.72, 95% confidence interval [CI] -0.37 to 3.81; 6 RCTs, 360 participants; I-2 = 78%; low-certainty evidence). There may be little to no difference in quality of life as measured by the IPSS-quality of life question on a scale from 0 to 6, with higher scores indicating worse quality of life between PAE and TURP, respectively (MD 0.28, 95% CI -0.28 to 0.84; 5 RCTs, 300 participants; I-2 = 63%; low-certainty evidence). While we are very uncertain about the effects of PAE on major adverse events (risk ratio [RR] 0.75, 95% Cl 0.19 to 2.97; 4 RCTs, 250 participants; I-2 = 24%; very low-certainty evidence), PAE likely increases retreatments (RR 3.20, 95% CI 1.41 to 7.27; 4 RCTs, 303 participants; I-2 = 0%; moderate-certainty evidence). PAE may make little to no difference in erectile function measured by the International Index of Erectile Function-5 on a scale from 1 to 25, with higher scores indicating better function (MD -0.50 points, 95% CI -5.88 to 4.88; 2 RCTs, 120 participants; I-2 = 68%; low-certainty evidence). Based on NRS evidence, PAE may reduce the occurrence of ejaculatory disorders (RR 0.51, 95% CI 0.35 to 0.73; 1 NRS, 260 participants; low-certainty evidence). Long-term follow-up: based on RCT evidence, PAE may result in little to no difference in urologic symptom scores (MD 2.58 points, 95% CI - 1.54 to 6.71; 2 RCTs, 176 participants; I-2 = 73%; low-certainty evidence) and quality of life (MD 0.50 points, 95% CI -0.03 to 1.04; 2 RCTs, 176 participants; I-2 = 29%; low-certainty evidence). We are very uncertain about major adverse events (RR 0.91, 95% CI 0.20 to 4.05; 2 RCTs, 206 participants; I-2 = 72%; very low-certainty evidence). PAE likely increases retreatments (RR 3.80, 95% CI 1.32 to 10.93; 1 RCT, 81 participants; moderate-certainty evidence). While PAE may result in little to no difference in erectile function (MD 3.09 points, 95% CI -0.76 to 6.94; 1 RCT, 81 participants; low-certainty evidence), PAE may reduce the occurrence of ejaculatory disorders (RR 0.67, 95% CI 0.45 to 0.98; 1 RCT, 50 participants; low-certainty evidence). Authors' conclusions Compared to TURP, PAE may provide similar improvement in urologic symptom scores and quality of life. While we are very uncertain about major adverse events, PAE likely increases retreatment rates. While erectile function may be similar, PAE may reduce ejaculatory disorders. Certainty of evidence for the outcomes of this review was low or very low except for retreatment (moderate-certainty evidence), signaling that ou\n",
      "\n",
      "Examine the content of this document and identify the key Citation Topics it addresses. [/INST]\n",
      "\n",
      " 1.142.1313\n"
     ]
    }
   ],
   "source": [
    "# 생성 및 출력\n",
    "input_ids = tokenizer.encode(input_text, return_tensors='pt', max_length=4096, truncation=True).to('cuda')\n",
    "# outputs = model.generate(input_ids, max_new_tokens=100)\n",
    "outputs = model.generate(input_ids, max_new_tokens=100, do_sample=True, top_k=40, top_p=0.92, no_repeat_ngram_size=5,)\n",
    "decoded_outputs = tokenizer.decode(outputs[0], skip_special_tokens=True)\n",
    "print(decoded_outputs)"
   ]
  },
  {
   "cell_type": "code",
   "execution_count": null,
   "metadata": {},
   "outputs": [],
   "source": []
  }
 ],
 "metadata": {
  "kernelspec": {
   "display_name": "venv_smkim_jupyter",
   "language": "python",
   "name": "python3"
  },
  "language_info": {
   "codemirror_mode": {
    "name": "ipython",
    "version": 3
   },
   "file_extension": ".py",
   "mimetype": "text/x-python",
   "name": "python",
   "nbconvert_exporter": "python",
   "pygments_lexer": "ipython3",
   "version": "3.10.12"
  }
 },
 "nbformat": 4,
 "nbformat_minor": 2
}
